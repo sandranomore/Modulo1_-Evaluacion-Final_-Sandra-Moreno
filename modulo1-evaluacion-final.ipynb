{
 "cells": [
  {
   "cell_type": "code",
   "execution_count": 5,
   "metadata": {},
   "outputs": [],
   "source": [
    "import re\n",
    "\n",
    "class TiendaOnline:\n",
    "    def __init__(self):\n",
    "        self.inventario = []\n",
    "        self.clientes = {}  # Un diccionario para llevar un registro de los clientes y sus compras\n",
    "        self.ventas_totales = 0  # Para llevar un registro de las ventas totales\n",
    "\n",
    "    def agregar_producto(self, nombre, precio, cantidad):\n",
    "        for producto in self.inventario:\n",
    "            if producto['nombre'] == nombre:\n",
    "                producto['cantidad'] += cantidad\n",
    "                return\n",
    "        nuevo_producto = {'nombre': nombre, 'precio': precio, 'cantidad': cantidad}\n",
    "        self.inventario.append(nuevo_producto)\n",
    "\n",
    "    def ver_inventario(self):\n",
    "        for producto in self.inventario:\n",
    "            print(f\"Nombre: {producto['nombre']}, Precio: ${producto['precio']}, Cantidad: {producto['cantidad']}\")\n",
    "\n",
    "    def buscar_producto(self, nombre):\n",
    "        for producto in self.inventario:\n",
    "            if producto['nombre'] == nombre:\n",
    "                print(f\"Nombre: {producto['nombre']}, Precio: ${producto['precio']}, Cantidad: {producto['cantidad']}\")\n",
    "                return\n",
    "        print(f\"El producto '{nombre}' no está en el inventario.\")\n",
    "\n",
    "    def actualizar_stock(self, nombre, cantidad):\n",
    "        for producto in self.inventario:\n",
    "            if producto['nombre'] == nombre:\n",
    "                if cantidad > 0:\n",
    "                    producto['cantidad'] += cantidad\n",
    "                    print(f\"Se añadieron {cantidad} unidades de {nombre} al inventario.\")\n",
    "                elif cantidad < 0 and producto['cantidad'] >= abs(cantidad):\n",
    "                    producto['cantidad'] += cantidad\n",
    "                    print(f\"Se eliminaron {abs(cantidad)} unidades de {nombre} del inventario.\")\n",
    "                else:\n",
    "                    print(f\"No hay suficiente stock de {nombre}.\")\n",
    "                return\n",
    "        print(f\"El producto '{nombre}' no está en el inventario.\")\n",
    "\n",
    "    def eliminar_producto(self, nombre):\n",
    "        for producto in self.inventario:\n",
    "            if producto['nombre'] == nombre:\n",
    "                self.inventario.remove(producto)\n",
    "                print(f\"Se eliminó el producto '{nombre}' del inventario.\")\n",
    "                return\n",
    "        print(f\"El producto '{nombre}' no está en el inventario.\")\n",
    "\n",
    "    def calcular_valor_inventario(self):\n",
    "        valor_total = sum(producto['precio'] * producto['cantidad'] for producto in self.inventario)\n",
    "        print(f\"El valor total del inventario es: ${valor_total}\")\n",
    "    \n",
    "    \n",
    "    def buscar_producto_regex(self, patron):\n",
    "        resultados = []\n",
    "        for producto in self.inventario:\n",
    "            if re.search(patron, producto['nombre'], re.IGNORECASE):\n",
    "                resultados.append(producto)\n",
    "        if resultados:\n",
    "            print(\"Resultados de la búsqueda:\")\n",
    "            for producto in resultados:\n",
    "                print(f\"Nombre: {producto['nombre']}, Precio: ${producto['precio']}, Cantidad: {producto['cantidad']}\")\n",
    "        else:\n",
    "            print(f\"No se encontraron productos que coincidan con '{patron}'.\")\n",
    "            \n",
    "\n",
    "    def realizar_compra(self):\n",
    "        carrito = {}\n",
    "        continuar_comprando = True\n",
    "\n",
    "        while continuar_comprando:\n",
    "            self.ver_inventario()\n",
    "            nombre = input(\"Ingrese el nombre del producto que desea comprar (o 'terminar' para finalizar la compra): \")\n",
    "\n",
    "            if nombre.lower() == \"terminar\":\n",
    "                continuar_comprando = False\n",
    "            else:\n",
    "                cantidad = int(input(f\"Ingrese la cantidad de '{nombre}' que desea comprar: \"))\n",
    "                for producto in self.inventario:\n",
    "                    if producto['nombre'] == nombre and producto['cantidad'] >= cantidad:\n",
    "                        if nombre in carrito:\n",
    "                            carrito[nombre]['cantidad'] += cantidad\n",
    "                        else:\n",
    "                            carrito[nombre] = {'precio': producto['precio'], 'cantidad': cantidad}\n",
    "                        producto['cantidad'] -= cantidad\n",
    "                        print(f\"'{nombre}' se agregó al carrito.\")\n",
    "                        break\n",
    "                else:\n",
    "                    print(f\"'{nombre}' no está en el inventario o no hay suficiente stock.\")\n",
    "\n",
    "        total = sum(item['precio'] * item['cantidad'] for item in carrito.values())\n",
    "        print(\"\\nResumen de la compra:\")\n",
    "        for nombre, detalle in carrito.items():\n",
    "            print(f\"Producto: {nombre}, Cantidad: {detalle['cantidad']}, Precio Unitario: ${detalle['precio']}\")\n",
    "\n",
    "        print(f\"\\nCosto total de la compra: ${total}\")\n",
    "\n",
    "\n",
    "    def procesar_pago(self):\n",
    "        try:\n",
    "            total = float(input(\"Ingrese el dinero total a pagar: $\"))\n",
    "            pago = float(input(\"Ingrese la cantidad que desea pagar: $\"))\n",
    "            \n",
    "            if pago < total:\n",
    "                raise ValueError(\"El dinero ingresado es insuficiente.\")\n",
    "            \n",
    "            cambio = pago - total\n",
    "            print(f\"Pago exitoso. Su cambio es: ${cambio:.2f}\")\n",
    "            \n",
    "        except ValueError as e:\n",
    "            print(f\"Error en el pago: {e}\")\n",
    "            \n",
    "    \n",
    "    def agregar_cliente(self, nombre, email):\n",
    "        self.clientes[nombre] = {'email': email, 'compras': []}\n",
    "\n",
    "    def ver_clientes(self):\n",
    "        for nombre, info in self.clientes.items():\n",
    "            print(f\"Nombre: {nombre}, Email: {info['email']}\")\n",
    "\n",
    "    def registrar_compra(self, nombre_cliente, carrito):\n",
    "        if nombre_cliente not in self.clientes:\n",
    "            print(f\"El cliente '{nombre_cliente}' no está registrado.\")\n",
    "            return\n",
    "        \n",
    "        total_compra = sum(item['precio'] * item['cantidad'] for item in carrito.values())\n",
    "        self.ventas_totales += total_compra\n",
    "        \n",
    "        compra = {'productos': carrito, 'total': total_compra}\n",
    "        self.clientes[nombre_cliente]['compras'].append(compra)\n",
    "        print(f\"Compra registrada para el cliente '{nombre_cliente}'. Total de la compra: ${total_compra:.2f}\")\n",
    "\n",
    "    def ver_compras_cliente(self, nombre_cliente):\n",
    "        if nombre_cliente not in self.clientes:\n",
    "            print(f\"El cliente '{nombre_cliente}' no está registrado.\")\n",
    "            return\n",
    "        \n",
    "        compras = self.clientes[nombre_cliente]['compras']\n",
    "        if not compras:\n",
    "            print(f\"{nombre_cliente} no ha realizado compras.\")\n",
    "            return\n",
    "        \n",
    "        print(f\"Compras de {nombre_cliente}:\")\n",
    "        for idx, compra in enumerate(compras, start=1):\n",
    "            print(f\"Compra {idx}:\")\n",
    "            for nombre, detalle in compra['productos'].items():\n",
    "                print(f\"Producto: {nombre}, Cantidad: {detalle['cantidad']}, Precio Unitario: ${detalle['precio']}\")\n",
    "            print(f\"Total de la compra: ${compra['total']:.2f}\")\n",
    "    \n",
    "    def calcular_ventas_totales(self):\n",
    "        print(f\"Ventas totales de la tienda: ${self.ventas_totales:.2f}\")\n"
   ]
  },
  {
   "cell_type": "code",
   "execution_count": 6,
   "metadata": {},
   "outputs": [
    {
     "name": "stdout",
     "output_type": "stream",
     "text": [
      "Inventario:\n",
      "Nombre: Camisa, Precio: $20, Cantidad: 50\n",
      "Nombre: Pantalón, Precio: $30, Cantidad: 30\n",
      "Nombre: Zapatos, Precio: $50, Cantidad: 40\n",
      "Nombre: Camisa, Precio: $20, Cantidad: 50\n",
      "Se eliminaron 10 unidades de Camisa del inventario.\n",
      "Se eliminó el producto 'Zapatos' del inventario.\n",
      "El valor total del inventario es: $1700\n",
      "Resultados de la búsqueda:\n",
      "Nombre: Pantalón, Precio: $30, Cantidad: 30\n",
      "Nombre: Camisa, Precio: $20, Cantidad: 40\n",
      "Nombre: Pantalón, Precio: $30, Cantidad: 30\n",
      "\n",
      "Resumen de la compra:\n",
      "\n",
      "Costo total de la compra: $0\n",
      "Pago exitoso. Su cambio es: $86.00\n",
      "Clientes:\n",
      "Nombre: Cliente1, Email: cliente1@email.com\n",
      "Nombre: Cliente2, Email: cliente2@email.com\n",
      "Compra registrada para el cliente 'Cliente1'. Total de la compra: $60.00\n",
      "Compras de Cliente1:\n",
      "Compra 1:\n",
      "Producto: Camisa, Cantidad: 3, Precio Unitario: $20\n",
      "Total de la compra: $60.00\n",
      "Ventas totales de la tienda: $60.00\n"
     ]
    }
   ],
   "source": [
    "# Crear una instancia de la tienda\n",
    "tienda = TiendaOnline()\n",
    "\n",
    "# Agregar productos al inventario\n",
    "tienda.agregar_producto(\"Camisa\", 20, 50)\n",
    "tienda.agregar_producto(\"Pantalón\", 30, 30)\n",
    "tienda.agregar_producto(\"Zapatos\", 50, 40)\n",
    "\n",
    "# Ver el inventario\n",
    "print(\"Inventario:\")\n",
    "tienda.ver_inventario()\n",
    "\n",
    "# Buscar un producto en el inventario\n",
    "tienda.buscar_producto(\"Camisa\")\n",
    "\n",
    "# Actualizar el stock de un producto\n",
    "tienda.actualizar_stock(\"Camisa\", -10)\n",
    "\n",
    "# Eliminar un producto del inventario\n",
    "tienda.eliminar_producto(\"Zapatos\")\n",
    "\n",
    "# Calcular el valor total del inventario\n",
    "tienda.calcular_valor_inventario()\n",
    "\n",
    "# Realizar una búsqueda de productos por nombre utilizando regex\n",
    "tienda.buscar_producto_regex(\"paNtaL\")\n",
    "\n",
    "# Realizar una compra\n",
    "tienda.realizar_compra()\n",
    "\n",
    "# Procesar un pago\n",
    "tienda.procesar_pago()\n",
    "\n",
    "# Agregar clientes\n",
    "tienda.agregar_cliente(\"Cliente1\", \"cliente1@email.com\")\n",
    "tienda.agregar_cliente(\"Cliente2\", \"cliente2@email.com\")\n",
    "\n",
    "# Ver lista de clientes\n",
    "print(\"Clientes:\")\n",
    "tienda.ver_clientes()\n",
    "\n",
    "# Registrar una compra para un cliente\n",
    "carrito_cliente1 = {\"Camisa\": {\"precio\": 20, \"cantidad\": 3}}\n",
    "tienda.registrar_compra(\"Cliente1\", carrito_cliente1)\n",
    "\n",
    "# Ver historial de compras de un cliente\n",
    "tienda.ver_compras_cliente(\"Cliente1\")\n",
    "\n",
    "# Calcular ventas totales de la tienda\n",
    "tienda.calcular_ventas_totales()\n"
   ]
  },
  {
   "cell_type": "code",
   "execution_count": 7,
   "metadata": {},
   "outputs": [
    {
     "name": "stdout",
     "output_type": "stream",
     "text": [
      "Nombre: Cliente1, Email: cliente1@email.com\n",
      "Nombre: Cliente2, Email: cliente2@email.com\n"
     ]
    }
   ],
   "source": [
    "tienda.ver_clientes()"
   ]
  },
  {
   "cell_type": "code",
   "execution_count": 8,
   "metadata": {},
   "outputs": [
    {
     "name": "stdout",
     "output_type": "stream",
     "text": [
      "Nombre: Camisa, Precio: $20, Cantidad: 40\n"
     ]
    }
   ],
   "source": [
    "# Buscar un producto en el inventario\n",
    "tienda.buscar_producto(\"Camisa\")"
   ]
  },
  {
   "cell_type": "code",
   "execution_count": 9,
   "metadata": {},
   "outputs": [],
   "source": [
    "# Agregar clientes\n",
    "tienda.agregar_cliente(\"Cliente1\", \"cliente1@email.com\")\n",
    "tienda.agregar_cliente(\"Cliente2\", \"cliente2@email.com\")"
   ]
  },
  {
   "cell_type": "code",
   "execution_count": 10,
   "metadata": {},
   "outputs": [
    {
     "data": {
      "text/plain": [
       "{'Cliente1': {'email': 'cliente1@email.com', 'compras': []},\n",
       " 'Cliente2': {'email': 'cliente2@email.com', 'compras': []}}"
      ]
     },
     "execution_count": 10,
     "metadata": {},
     "output_type": "execute_result"
    }
   ],
   "source": [
    "tienda.clientes"
   ]
  },
  {
   "cell_type": "code",
   "execution_count": 11,
   "metadata": {},
   "outputs": [
    {
     "name": "stdout",
     "output_type": "stream",
     "text": [
      "Resultados de la búsqueda:\n",
      "Nombre: Pantalón, Precio: $30, Cantidad: 30\n"
     ]
    }
   ],
   "source": [
    "# Realizar una búsqueda de productos por nombre utilizando regex\n",
    "tienda.buscar_producto_regex(\"paNtaL\")"
   ]
  },
  {
   "cell_type": "code",
   "execution_count": null,
   "metadata": {},
   "outputs": [],
   "source": []
  }
 ],
 "metadata": {
  "kernelspec": {
   "display_name": "promoe",
   "language": "python",
   "name": "python3"
  },
  "language_info": {
   "codemirror_mode": {
    "name": "ipython",
    "version": 3
   },
   "file_extension": ".py",
   "mimetype": "text/x-python",
   "name": "python",
   "nbconvert_exporter": "python",
   "pygments_lexer": "ipython3",
   "version": "3.11.6"
  },
  "orig_nbformat": 4
 },
 "nbformat": 4,
 "nbformat_minor": 2
}
